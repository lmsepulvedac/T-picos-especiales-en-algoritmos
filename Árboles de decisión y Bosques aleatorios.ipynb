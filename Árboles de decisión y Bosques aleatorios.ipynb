{
 "cells": [
  {
   "cell_type": "markdown",
   "metadata": {},
   "source": [
    "# Árboles de decisión"
   ]
  },
  {
   "cell_type": "code",
   "execution_count": null,
   "metadata": {},
   "outputs": [],
   "source": [
    "#importamos las librerías\n",
    "import numpy as np\n",
    "import matplotlib.pyplot as plt\n",
    "from sklearn.metrics import classification_report\n",
    "from sklearn import cross_validation\n",
    "from sklearn.tree import DecisionTreeClassifier"
   ]
  },
  {
   "cell_type": "code",
   "execution_count": null,
   "metadata": {},
   "outputs": [],
   "source": [
    "#cargamos los datos\n",
    "file = 'datos_arboles.txt'\n",
    "datos = np.loadtxt(file, delimiter=',')\n",
    "X, y = datos[:,:-1], datos[:,-1]"
   ]
  },
  {
   "cell_type": "code",
   "execution_count": null,
   "metadata": {
    "collapsed": true
   },
   "outputs": [],
   "source": [
    "#separamos las clases por etiquetas\n",
    "clase0 = np.array(X[y==0])\n",
    "clase1 = np.array(X[y==1])"
   ]
  },
  {
   "cell_type": "code",
   "execution_count": null,
   "metadata": {},
   "outputs": [],
   "source": [
    "#visualizamos los datos de entrada\n",
    "plt.figure() #instanciamos la figura\n",
    "plt.scatter(clase0[:,0], clase0[:,1], s=75, facecolors = 'white',\n",
    "           edgecolors = 'black', linewidth = 1, marker = 's')\n",
    "plt.scatter(clase1[:,0], clase1[:,1], s=75, facecolors = 'white',\n",
    "           edgecolors = 'black', linewidth = 1, marker = 'o')\n",
    "plt.title('Datos de entrada')\n",
    "plt.show()\n"
   ]
  },
  {
   "cell_type": "code",
   "execution_count": null,
   "metadata": {
    "collapsed": true
   },
   "outputs": [],
   "source": [
    "#particionamos la base de datos en entrenamiento y validación\n",
    "X_train, X_test, y_train, Y_test = cross_validation.train_test_split(X, y,\n",
    "                                                                     test_size = 0.25,\n",
    "                                                                     random_state = 5)\n",
    "                                                                     "
   ]
  },
  {
   "cell_type": "code",
   "execution_count": null,
   "metadata": {},
   "outputs": [],
   "source": [
    "#construimos el árbol de decisión\n",
    "parametros = {'random_state':0, 'max_depth': 4} #definimos los parámetros como diccionario\n",
    "#instanciamos el clasificador\n",
    "clasificador = DecisionTreeClassifier(**parametros)\n",
    "#entrenamos el clasificador\n",
    "clasificador.fit(X_train, y_train)\n",
    "visualizar_clasificador(clasificador, X_train, y_train)"
   ]
  },
  {
   "cell_type": "code",
   "execution_count": null,
   "metadata": {},
   "outputs": [],
   "source": [
    "#validamos el clasificador\n",
    "y_pred = clasificador.predict(X_test)\n",
    "visualizar_clasificador(clasificador, X_test, y_pred)"
   ]
  },
  {
   "cell_type": "code",
   "execution_count": null,
   "metadata": {},
   "outputs": [],
   "source": [
    "# mostramos el reporte de clasificación\n",
    "nombres_clases = ['Clase0' , 'Clase1']\n",
    "print('\\n' + \"#\"*70)\n",
    "print('\\n Desempeño del clasificador sobre el conjunto de entrenamiento\\n')\n",
    "print(classification_report(y_train, clasificador.predict(X_train), \n",
    "                            target_names = nombres_clases))\n",
    "print(\"#\"*70+'\\n')\n",
    "\n",
    "print(\"#\"*70)\n",
    "print('\\n Desempeño del clasificador sobre el conjunto de validación\\n')\n",
    "print(classification_report(Y_test, clasificador.predict(X_test), \n",
    "                            target_names = nombres_clases))\n",
    "print(\"#\"*70+'\\n')\n"
   ]
  },
  {
   "cell_type": "code",
   "execution_count": null,
   "metadata": {
    "collapsed": true
   },
   "outputs": [],
   "source": [
    "def visualizar_clasificador(clasificador, X, y):\n",
    "    #definimos los máximos valores de X e y para la malla\n",
    "    min_x, max_x = X[:, 0].min() - 1.0, X[:, 0].max() + 1.0 \n",
    "    min_y, max_y = X[:, 1].min() - 1.0, X[:, 1].max() + 1.0\n",
    "    #definimos el paso de la malla\n",
    "    mesh_step_size = 0.01\n",
    "    #definimos la malla para x e y\n",
    "    x_vals, y_vals = np.mgrid[min_x:max_x:mesh_step_size, min_y:max_y:mesh_step_size]\n",
    "    #corremos el clasificador sobre la malla\n",
    "    resultados = clasificador.predict(np.c_[x_vals.ravel(), y_vals.ravel()])\n",
    "    #reordenamos la salida\n",
    "    print(resultados)\n",
    "    resultados = resultados.reshape(x_vals.shape)\n",
    "    #creamos la figura\n",
    "    plt.figure()\n",
    "    #elegimos los colores\n",
    "    plt.pcolormesh(x_vals,y_vals,resultados,cmap=plt.cm.PiYG)\n",
    "    #ubicamos los puntos\n",
    "    plt.scatter(X[:,0],X[:,1],c=y,s=75,edgecolors='black',linewidth=1,cmap=plt.cm.PiYG)\n",
    "    #especificamos los límites de la gráfica\n",
    "    plt.xlim(x_vals.min(), x_vals.max()) \n",
    "    plt.ylim(y_vals.min(), y_vals.max())\n",
    "    #especificamos los puntos que se visualizarán sobre los ejes\n",
    "    plt.xticks((np.arange(int(X[:, 0].min() - 1), int(X[:, 0].max() + 1), 1.0))) \n",
    "    plt.yticks((np.arange(int(X[:, 1].min() - 1), int(X[:, 1].max() + 1), 1.0)))\n",
    "    #Graficamos\n",
    "    plt.show()"
   ]
  },
  {
   "cell_type": "markdown",
   "metadata": {},
   "source": [
    "# Bosques Aleatorios"
   ]
  },
  {
   "cell_type": "code",
   "execution_count": null,
   "metadata": {
    "collapsed": true
   },
   "outputs": [],
   "source": [
    "#incluimos librería de los bosques aleatorios\n",
    "from sklearn.ensemble import RandomForestClassifier, ExtraTreesClassifier\n"
   ]
  },
  {
   "cell_type": "code",
   "execution_count": null,
   "metadata": {},
   "outputs": [],
   "source": [
    "#cargamos los datos\n",
    "file = 'datos_bosques_aleatorios.txt'\n",
    "datos = np.loadtxt(file, delimiter=',')\n",
    "X, y = datos[:,:-1], datos[:,-1]"
   ]
  },
  {
   "cell_type": "code",
   "execution_count": null,
   "metadata": {
    "collapsed": true
   },
   "outputs": [],
   "source": [
    "X_train, X_test, y_train, y_test = cross_validation.train_test_split(X, y,\n",
    "                                                                     test_size = 0.25,\n",
    "                                                                     random_state = 5)\n",
    "                                                                     "
   ]
  },
  {
   "cell_type": "code",
   "execution_count": null,
   "metadata": {
    "collapsed": true
   },
   "outputs": [],
   "source": [
    "#definimos los parámetros para el bosque aleatorio\n",
    "parametros = {'n_estimators': 100, 'max_depth': 4, 'random_state': 0}"
   ]
  },
  {
   "cell_type": "code",
   "execution_count": null,
   "metadata": {},
   "outputs": [],
   "source": [
    "#instanciamos los clasificadores\n",
    "#bosque aleatorio (aleatoriedad en las características)\n",
    "clasificador_bosque = RandomForestClassifier(**parametros)\n",
    "#bosque extremadamente aleatorio (aleatoriedad en las características y observaciones)\n",
    "clasificador_extremo = ExtraTreesClassifier(**parametros)\n",
    "\n",
    "#Entrenamos los clasificadores\n",
    "clasificador_bosque.fit(X_train,y_train)\n",
    "clasificador_extremo.fit(X_train,y_train)"
   ]
  },
  {
   "cell_type": "code",
   "execution_count": null,
   "metadata": {
    "collapsed": true
   },
   "outputs": [],
   "source": [
    "#validamos los clasificadores\n",
    "y_bosque_pred = clasificador_bosque.predict(X_test)\n",
    "y_extremo_pred = clasificador_extremo.predict(X_test)"
   ]
  },
  {
   "cell_type": "code",
   "execution_count": null,
   "metadata": {},
   "outputs": [],
   "source": [
    "#visualizamos\n",
    "visualizar_clasificador(clasificador_bosque,X_test, y_bosque_pred)"
   ]
  },
  {
   "cell_type": "code",
   "execution_count": null,
   "metadata": {},
   "outputs": [],
   "source": [
    "visualizar_clasificador(clasificador_extremo, X_test, y_extremo_pred)"
   ]
  },
  {
   "cell_type": "code",
   "execution_count": null,
   "metadata": {
    "collapsed": true
   },
   "outputs": [],
   "source": []
  },
  {
   "cell_type": "code",
   "execution_count": null,
   "metadata": {
    "collapsed": true
   },
   "outputs": [],
   "source": []
  },
  {
   "cell_type": "code",
   "execution_count": null,
   "metadata": {
    "collapsed": true
   },
   "outputs": [],
   "source": []
  },
  {
   "cell_type": "code",
   "execution_count": null,
   "metadata": {
    "collapsed": true
   },
   "outputs": [],
   "source": []
  }
 ],
 "metadata": {
  "kernelspec": {
   "display_name": "Python 3",
   "language": "python",
   "name": "python3"
  },
  "language_info": {
   "codemirror_mode": {
    "name": "ipython",
    "version": 3
   },
   "file_extension": ".py",
   "mimetype": "text/x-python",
   "name": "python",
   "nbconvert_exporter": "python",
   "pygments_lexer": "ipython3",
   "version": "3.6.3"
  }
 },
 "nbformat": 4,
 "nbformat_minor": 2
}
