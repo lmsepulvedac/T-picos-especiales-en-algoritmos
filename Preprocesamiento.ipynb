{
 "cells": [
  {
   "cell_type": "markdown",
   "metadata": {},
   "source": [
    "# Preprocesamiento\n",
    "\n",
    "Para la etapa de preprocesamiento partimos de una matriz de observaciones:\n",
    "\n",
    "$$\\mathbf{X} \\in R^{n \\times p}$$"
   ]
  },
  {
   "cell_type": "code",
   "execution_count": 1,
   "metadata": {},
   "outputs": [
    {
     "name": "stdout",
     "output_type": "stream",
     "text": [
      "La matriz de datos es: \n",
      " [[ 5.1 -2.9  3.3]\n",
      " [-1.2  7.8 -6.1]\n",
      " [ 3.9  0.4  2.1]\n",
      " [ 7.3 -9.9 -4.5]]\n"
     ]
    }
   ],
   "source": [
    "#definimos las librerías\n",
    "import numpy as np #importar la librería numpy y asignarles el \"alias\" np\n",
    "\n",
    "#generamos una matriz de datos artificial o toyset de 4 observaciones por 3 características\n",
    "X = np.array([[5.1,-2.9,3.3],[-1.2,7.8,-6.1],[3.9,0.4,2.1],[7.3,-9.9,-4.5]])\n",
    "#imprimimos la matriz de datos\n",
    "print('La matriz de datos es: \\n',X)"
   ]
  },
  {
   "cell_type": "markdown",
   "metadata": {},
   "source": [
    "## Remoción de la media\n",
    "Para la remoción de la media debemos aplicar la siguiente operación:\n",
    "\n",
    "$$\\mathbf{X}_{prepro}=\\frac{\\mathbf{X}-\\hat{\\mathbf{X}}}{\\sigma_{\\mathbf{X}}}$$\n",
    "\n",
    "Una vez esté normalizada la matriz, debería tener media 0 y desviación estandar 1"
   ]
  },
  {
   "cell_type": "code",
   "execution_count": 2,
   "metadata": {},
   "outputs": [
    {
     "name": "stdout",
     "output_type": "stream",
     "text": [
      "La media de la matriz de observaciones es: \n",
      " [ 3.775 -1.15  -1.3  ]\n",
      "La desviación estandar de la matriz de observaciones es: \n",
      " [ 3.12039661  6.36651396  4.0620192 ]\n"
     ]
    }
   ],
   "source": [
    "#verificamos los parámetros actuales de los datos\n",
    "media = X.mean(axis = 0)\n",
    "print('La media de la matriz de observaciones es: \\n',media)\n",
    "desviacion = X.std(axis = 0)\n",
    "print('La desviación estandar de la matriz de observaciones es: \\n', desviacion)"
   ]
  },
  {
   "cell_type": "code",
   "execution_count": 3,
   "metadata": {
    "collapsed": true
   },
   "outputs": [],
   "source": [
    "#definimos la función de remoción de la media\n",
    "def Remocion(X):\n",
    "    X = X - X.mean(axis = 0)\n",
    "    X = X/X.std(axis = 0)\n",
    "    return X"
   ]
  },
  {
   "cell_type": "code",
   "execution_count": 4,
   "metadata": {},
   "outputs": [
    {
     "name": "stdout",
     "output_type": "stream",
     "text": [
      "La nueva media de los datos es: \n",
      " [  1.11022302e-16   0.00000000e+00   2.77555756e-17]\n",
      "La nueva desviación estandar es: \n",
      " [ 1.  1.  1.]\n"
     ]
    }
   ],
   "source": [
    "#aplicamos el preprocesamiento\n",
    "X_prepro = Remocion(X)\n",
    "#validamos los parámetros\n",
    "media = X_prepro.mean(axis = 0) #cálculo de la media\n",
    "print('La nueva media de los datos es: \\n',media)\n",
    "desviacion = X_prepro.std(axis = 0) #cálculo de la desviación estandar\n",
    "print('La nueva desviación estandar es: \\n',desviacion)"
   ]
  },
  {
   "cell_type": "markdown",
   "metadata": {},
   "source": [
    "## Escalamiento\n",
    "En el escalamiento se busca que las características tengan valores entre 0 y 1. Esto se logra aplicando la siguiente operación:\n",
    "$$\\mathbf{X}_{prepro} = \\frac{\\mathbf{X}-min(\\mathbf{X})}{max(\\mathbf{X})-min(\\mathbf{X})}$$"
   ]
  },
  {
   "cell_type": "code",
   "execution_count": 5,
   "metadata": {
    "collapsed": true
   },
   "outputs": [],
   "source": [
    "#definimos la función de escalamiento\n",
    "def Escalamiento(X):\n",
    "    #en una sola operación\n",
    "    X = (X - X.min(axis = 0))/(X.max(axis = 0) - X.min(axis = 0))\n",
    "    # con las dos operaciones\n",
    "    #X = X - X.min(axis = 0)\n",
    "    #X = X/X.maxi(axis = 0)\n",
    "    return X"
   ]
  },
  {
   "cell_type": "code",
   "execution_count": 7,
   "metadata": {},
   "outputs": [
    {
     "name": "stdout",
     "output_type": "stream",
     "text": [
      "El máximo de X es: \n",
      " [ 1.  1.  1.]\n",
      "El mínimo de X es: \n",
      " [ 0.  0.  0.]\n"
     ]
    }
   ],
   "source": [
    "#aplicamos el preprocesamiento\n",
    "X_prepro = Escalamiento(X)\n",
    "#validmos los parámetors\n",
    "print('El máximo de X es: \\n', X_prepro.max(axis = 0))\n",
    "print('El mínimo de X es: \\n', X_prepro.min(axis = 0))"
   ]
  },
  {
   "cell_type": "markdown",
   "metadata": {},
   "source": [
    "## Normalización por L1\n",
    "La idea de la normalización $L_1$ es que la norma 1 de características sea unitaria, esto es:\n",
    "$$\\sum_{j=1}^{p}||x_{ij}||=1, \\forall i = 1,\\ldots,n$$\n",
    "O sea, que la suma del valor absoluto de cada observación sea unitaria."
   ]
  },
  {
   "cell_type": "code",
   "execution_count": 13,
   "metadata": {
    "collapsed": true
   },
   "outputs": [],
   "source": [
    "def Norma1(X):\n",
    "    norma = np.linalg.norm(X, ord = 1, axis = 1) #cálculo de la norma por observación (axis =1)\n",
    "    #para hacer las operaciones, debemos hacer una matriz de normas\n",
    "    norma = np.repeat(norma,3) #repite la norma tres veces\n",
    "    norma = np.resize(norma,(4,3)) #la convierte en una matriz de 4x3\n",
    "    #división elemento a elementos\n",
    "    X = X/norma\n",
    "    return X"
   ]
  },
  {
   "cell_type": "code",
   "execution_count": 15,
   "metadata": {},
   "outputs": [
    {
     "name": "stdout",
     "output_type": "stream",
     "text": [
      "La matriz normalizada es: \n",
      " [[ 0.45132743 -0.25663717  0.2920354 ]\n",
      " [-0.0794702   0.51655629 -0.40397351]\n",
      " [ 0.609375    0.0625      0.328125  ]\n",
      " [ 0.33640553 -0.4562212  -0.20737327]]\n"
     ]
    }
   ],
   "source": [
    "#aplicamos el preprocesamiento\n",
    "X_prepro = Norma1(X)\n",
    "print('La matriz normalizada es: \\n',X_prepro)"
   ]
  },
  {
   "cell_type": "code",
   "execution_count": 16,
   "metadata": {},
   "outputs": [
    {
     "name": "stdout",
     "output_type": "stream",
     "text": [
      "[ 1.  1.  1.  1.]\n"
     ]
    }
   ],
   "source": [
    "norma = np.linalg.norm(X_prepro, ord = 1, axis = 1) \n",
    "print(norma)"
   ]
  },
  {
   "cell_type": "code",
   "execution_count": null,
   "metadata": {
    "collapsed": true
   },
   "outputs": [],
   "source": []
  },
  {
   "cell_type": "markdown",
   "metadata": {},
   "source": []
  }
 ],
 "metadata": {
  "kernelspec": {
   "display_name": "Python 3",
   "language": "python",
   "name": "python3"
  },
  "language_info": {
   "codemirror_mode": {
    "name": "ipython",
    "version": 3
   },
   "file_extension": ".py",
   "mimetype": "text/x-python",
   "name": "python",
   "nbconvert_exporter": "python",
   "pygments_lexer": "ipython3",
   "version": "3.6.3"
  }
 },
 "nbformat": 4,
 "nbformat_minor": 2
}
