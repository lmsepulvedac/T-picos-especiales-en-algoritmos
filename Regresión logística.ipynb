{
 "cells": [
  {
   "cell_type": "markdown",
   "metadata": {},
   "source": [
    "# Regresión logística\n",
    "\n",
    "El objetivo de la regresión logística es determinar la probabilidad de etiqueta $P(y=1|\\mathbf{x};\\mathbf{w})$. Para ello se calcula la función logística o sigmoide:\n",
    "\n",
    "$$ \\phi(z)=\\frac{1}{1+e^{-z}},$$\n",
    "\n",
    "donde $z=\\mathbf{w}^{\\top}\\mathbf{x}$"
   ]
  },
  {
   "cell_type": "code",
   "execution_count": 2,
   "metadata": {},
   "outputs": [],
   "source": [
    "#importamos las librerías necesarias\n",
    "import numpy as np\n",
    "#librería para el clasificador\n",
    "from sklearn.linear_model import LogisticRegression\n",
    "#librería para la división de la base de datos\n",
    "from sklearn.cross_validation import train_test_split\n",
    "#librería para cargar la base de datos\n",
    "from sklearn import datasets"
   ]
  },
  {
   "cell_type": "code",
   "execution_count": 6,
   "metadata": {},
   "outputs": [
    {
     "name": "stdout",
     "output_type": "stream",
     "text": [
      "[0 1 2]\n"
     ]
    }
   ],
   "source": [
    "#Cargamos la base de datos\n",
    "iris = datasets.load_iris()\n",
    "X = iris.data\n",
    "y = iris.target\n",
    "print(np.unique(y))"
   ]
  },
  {
   "cell_type": "code",
   "execution_count": 7,
   "metadata": {
    "collapsed": true
   },
   "outputs": [],
   "source": [
    "def Remocion(X_train,X_test):\n",
    "#    almacenamos los parámetros de entrenamiento\n",
    "    X_train_mean = X_train.mean(axis = 0)\n",
    "    X_train_std = X_train.std(axis = 0)\n",
    "#    aplicamos el preprocesamiento\n",
    "    X_train = (X_train - X_train_mean)/(X_train_std)\n",
    "    X_test =  (X_test - X_train_mean)/(X_train_std)\n",
    "    return X_train,X_test"
   ]
  },
  {
   "cell_type": "code",
   "execution_count": 10,
   "metadata": {
    "collapsed": true
   },
   "outputs": [],
   "source": [
    "#particionamos la base de datos 70/30 (70% de entrenamiento, 30% de validación)\n",
    "X_train, X_test, y_train, y_test = train_test_split(X, y, test_size = 0.3, random_state = 0)\n",
    "#realizamos el preprocesamiento\n",
    "X_train_norm, X_test_norm = Remocion(X_train, X_test)"
   ]
  },
  {
   "cell_type": "code",
   "execution_count": 11,
   "metadata": {},
   "outputs": [
    {
     "data": {
      "text/plain": [
       "LogisticRegression(C=1000.0, class_weight=None, dual=False,\n",
       "          fit_intercept=True, intercept_scaling=1, max_iter=100,\n",
       "          multi_class='ovr', n_jobs=1, penalty='l2', random_state=0,\n",
       "          solver='liblinear', tol=0.0001, verbose=0, warm_start=False)"
      ]
     },
     "execution_count": 11,
     "metadata": {},
     "output_type": "execute_result"
    }
   ],
   "source": [
    "#instanciamos el clasificador\n",
    "clasificador = LogisticRegression(C = 1000.0, random_state = 0)\n",
    "#C es el parámetro de regularización. Valores pequeños de C\n",
    "# especifican mayor regularización\n",
    "#Entrenamos el clasificador\n",
    "clasificador.fit(X_train_norm, y_train)"
   ]
  },
  {
   "cell_type": "code",
   "execution_count": 16,
   "metadata": {},
   "outputs": [
    {
     "name": "stdout",
     "output_type": "stream",
     "text": [
      "Las muestras mal clasificadas fueron 1\n",
      "El porcentaje de acierto de clasificación fue 97.777778\n"
     ]
    }
   ],
   "source": [
    "#validamos el resultado\n",
    "y_pred = clasificador.predict(X_test_norm)\n",
    "print('Las muestras mal clasificadas fueron %d' % (y_test != y_pred).sum())\n",
    "temp = 100-(((y_test != y_pred).sum())/45)*100\n",
    "print('El porcentaje de acierto de clasificación fue %f' % temp)"
   ]
  },
  {
   "cell_type": "code",
   "execution_count": null,
   "metadata": {
    "collapsed": true
   },
   "outputs": [],
   "source": []
  },
  {
   "cell_type": "code",
   "execution_count": null,
   "metadata": {
    "collapsed": true
   },
   "outputs": [],
   "source": []
  },
  {
   "cell_type": "code",
   "execution_count": null,
   "metadata": {
    "collapsed": true
   },
   "outputs": [],
   "source": []
  }
 ],
 "metadata": {
  "kernelspec": {
   "display_name": "Python 3",
   "language": "python",
   "name": "python3"
  },
  "language_info": {
   "codemirror_mode": {
    "name": "ipython",
    "version": 3
   },
   "file_extension": ".py",
   "mimetype": "text/x-python",
   "name": "python",
   "nbconvert_exporter": "python",
   "pygments_lexer": "ipython3",
   "version": "3.6.3"
  }
 },
 "nbformat": 4,
 "nbformat_minor": 2
}
